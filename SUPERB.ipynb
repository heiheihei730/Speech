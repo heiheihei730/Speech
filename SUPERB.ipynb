{
 "cells": [
  {
   "cell_type": "code",
   "execution_count": null,
   "metadata": {},
   "outputs": [],
   "source": []
  }
 ],
 "metadata": {
  "kernelspec": {
   "display_name": "Python 3.7.9 ('heiheihei')",
   "language": "python",
   "name": "python3"
  },
  "language_info": {
   "name": "python",
   "version": "3.7.9"
  },
  "orig_nbformat": 4,
  "vscode": {
   "interpreter": {
    "hash": "52981d89d3cd56b492def6368a47dc278916d2d537cab9de399293b9b90eff3b"
   }
  }
 },
 "nbformat": 4,
 "nbformat_minor": 2
}
