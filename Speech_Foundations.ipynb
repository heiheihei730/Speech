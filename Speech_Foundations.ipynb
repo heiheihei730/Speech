{
 "cells": [
  {
   "attachments": {},
   "cell_type": "markdown",
   "metadata": {},
   "source": [
    "# 语音基础"
   ]
  },
  {
   "cell_type": "code",
   "execution_count": 1,
   "metadata": {},
   "outputs": [],
   "source": [
    "# 基础库\n",
    "import numpy as np\n",
    "import pandas as pd\n",
    "import seaborn as sn\n",
    "import matplotlib.pyplot as plt\n",
    "\n",
    "#  语音相关库\n",
    "import ffmpeg\n",
    "import librosa\n",
    "import scipy.io.wavfile as wav\n",
    "from pydub import AudioSegment\n",
    "import IPython.display as ipd"
   ]
  },
  {
   "cell_type": "code",
   "execution_count": 2,
   "metadata": {},
   "outputs": [],
   "source": [
    "file = \"../Test_audio/Passion.mp3\"\n",
    "file_wav = \"../Test_audio/Passion.wav\""
   ]
  },
  {
   "cell_type": "code",
   "execution_count": 3,
   "metadata": {},
   "outputs": [
    {
     "name": "stderr",
     "output_type": "stream",
     "text": [
      "/home/chenhonghua/anaconda3/envs/speech/lib/python3.7/site-packages/librosa/core/audio.py:165: UserWarning: PySoundFile failed. Trying audioread instead.\n",
      "  warnings.warn(\"PySoundFile failed. Trying audioread instead.\")\n"
     ]
    }
   ],
   "source": [
    "(sig, rate) = librosa.load(file, sr=None, mono=True, offset=0.0, duration=None)\n",
    "ipd.Audio(sig, rate= rate)"
   ]
  },
  {
   "cell_type": "code",
   "execution_count": null,
   "metadata": {},
   "outputs": [],
   "source": [
    "target_sr = 16000\n",
    "target_sig = librosa.resample(sig, rate, target_sr, fix=True, scale=False)\n",
    "ipd.Audio(target_sig, rate=target_sr)"
   ]
  },
  {
   "cell_type": "code",
   "execution_count": null,
   "metadata": {},
   "outputs": [],
   "source": [
    "sig_norm = sig / np.max(sig)   # 归一化，标准化\n",
    "\n",
    "# 应用傅里叶变换\n",
    "fft_signal = np.fft.fft(sig_norm)\n",
    "print(fft_signal)\n",
    "# [-0.04022912+0.j         -0.04068997-0.00052721j -0.03933007-0.00448355j\n",
    "#  ... -0.03947908+0.00298096j -0.03933007+0.00448355j -0.04068997+0.00052721j]\n",
    "\n",
    "fft_signal = abs(fft_signal)\n",
    "print(fft_signal)\n",
    "# [0.04022912 0.04069339 0.0395848  ... 0.08001755 0.09203427 0.12889393]\n",
    "\n",
    "# 建立时间轴\n",
    "Freq = np.arange(0, len(fft_signal))\n",
    "\n",
    "# 绘制语音信号的\n",
    "plt.figure()\n",
    "plt.plot(Freq, fft_signal, color='blue')\n",
    "plt.xlabel('Freq (in kHz)')\n",
    "plt.ylabel('Amplitude')\n",
    "plt.show()"
   ]
  }
 ],
 "metadata": {
  "kernelspec": {
   "display_name": "Python 3.7.15 ('speech')",
   "language": "python",
   "name": "python3"
  },
  "language_info": {
   "codemirror_mode": {
    "name": "ipython",
    "version": 3
   },
   "file_extension": ".py",
   "mimetype": "text/x-python",
   "name": "python",
   "nbconvert_exporter": "python",
   "pygments_lexer": "ipython3",
   "version": "3.7.15"
  },
  "orig_nbformat": 4,
  "vscode": {
   "interpreter": {
    "hash": "03c8b8d2efeff34910646f2825e7ebf40fce6c0407b50a5bcb8520ed0a04a344"
   }
  }
 },
 "nbformat": 4,
 "nbformat_minor": 2
}
