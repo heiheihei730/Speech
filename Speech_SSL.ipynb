{
 "cells": [
  {
   "cell_type": "markdown",
   "metadata": {},
   "source": [
    "# SSL模型\n",
    "\n",
    "模型目录：\n",
    "1. Wav2vec2.0\n",
    "2. HuBERT\n",
    "3. WavLM"
   ]
  },
  {
   "cell_type": "code",
   "execution_count": null,
   "metadata": {},
   "outputs": [],
   "source": []
  }
 ],
 "metadata": {
  "kernelspec": {
   "display_name": "Python 3.7.15 ('speech')",
   "language": "python",
   "name": "python3"
  },
  "language_info": {
   "name": "python",
   "version": "3.7.15"
  },
  "orig_nbformat": 4,
  "vscode": {
   "interpreter": {
    "hash": "03c8b8d2efeff34910646f2825e7ebf40fce6c0407b50a5bcb8520ed0a04a344"
   }
  }
 },
 "nbformat": 4,
 "nbformat_minor": 2
}
