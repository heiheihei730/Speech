{
 "cells": [
  {
   "cell_type": "markdown",
   "metadata": {},
   "source": [
    "# SSL模型\n",
    "\n",
    "模型目录：\n",
    "1. Wav2vec2.0\n",
    "2. HuBERT\n",
    "3. WavLM"
   ]
  },
  {
   "cell_type": "code",
   "execution_count": null,
   "metadata": {},
   "outputs": [],
   "source": []
  }
 ],
 "metadata": {
  "kernelspec": {
   "display_name": "heiheihei",
   "language": "python",
   "name": "python3"
  },
  "language_info": {
   "name": "python",
   "version": "3.8.10 (default, May 19 2021, 11:01:55) \n[Clang 10.0.0 ]"
  },
  "orig_nbformat": 4,
  "vscode": {
   "interpreter": {
    "hash": "1a7ed7629e7eafe90f5478041d6e111ce915a0076e2c86b48da3ec67665bb0b1"
   }
  }
 },
 "nbformat": 4,
 "nbformat_minor": 2
}
